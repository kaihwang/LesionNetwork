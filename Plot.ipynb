{
 "cells": [
  {
   "cell_type": "code",
   "execution_count": 14,
   "metadata": {},
   "outputs": [],
   "source": [
    "import numpy as np\n",
    "import pandas as pd\n",
    "import seaborn as sns\n",
    "import matplotlib.pyplot as plt\n",
    "import scipy \n"
   ]
  },
  {
   "cell_type": "code",
   "execution_count": 15,
   "metadata": {},
   "outputs": [],
   "source": [
    "df = pd.read_csv('/home/kahwang/RDSS/tmp/neuropsych.csv')"
   ]
  },
  {
   "cell_type": "code",
   "execution_count": 16,
   "metadata": {},
   "outputs": [
    {
     "data": {
      "text/html": [
       "<div>\n",
       "<style scoped>\n",
       "    .dataframe tbody tr th:only-of-type {\n",
       "        vertical-align: middle;\n",
       "    }\n",
       "\n",
       "    .dataframe tbody tr th {\n",
       "        vertical-align: top;\n",
       "    }\n",
       "\n",
       "    .dataframe thead th {\n",
       "        text-align: right;\n",
       "    }\n",
       "</style>\n",
       "<table border=\"1\" class=\"dataframe\">\n",
       "  <thead>\n",
       "    <tr style=\"text-align: right;\">\n",
       "      <th></th>\n",
       "      <th>Sub</th>\n",
       "      <th>Age</th>\n",
       "      <th>Sex</th>\n",
       "      <th>Site</th>\n",
       "      <th>WCST_PE</th>\n",
       "      <th>WCST_Correct</th>\n",
       "      <th>WCST_Error</th>\n",
       "      <th>PE_response</th>\n",
       "      <th>Non_PE</th>\n",
       "      <th>WCST_Catogories</th>\n",
       "      <th>...</th>\n",
       "      <th>RAVL_Rejection</th>\n",
       "      <th>Construction</th>\n",
       "      <th>Pegboard_Right</th>\n",
       "      <th>Pegboard_Left</th>\n",
       "      <th>Educ</th>\n",
       "      <th>Lesion Size</th>\n",
       "      <th>Group</th>\n",
       "      <th>Hadedness</th>\n",
       "      <th>Chronicity</th>\n",
       "      <th>Laterality</th>\n",
       "    </tr>\n",
       "  </thead>\n",
       "  <tbody>\n",
       "    <tr>\n",
       "      <th>0</th>\n",
       "      <td>1692</td>\n",
       "      <td>58</td>\n",
       "      <td>M</td>\n",
       "      <td>Th</td>\n",
       "      <td>NaN</td>\n",
       "      <td>NaN</td>\n",
       "      <td>NaN</td>\n",
       "      <td>NaN</td>\n",
       "      <td>NaN</td>\n",
       "      <td>NaN</td>\n",
       "      <td>...</td>\n",
       "      <td>15.0</td>\n",
       "      <td>29.0</td>\n",
       "      <td>85.0</td>\n",
       "      <td>112.0</td>\n",
       "      <td>12</td>\n",
       "      <td>336.0</td>\n",
       "      <td>Lateral Thalamus</td>\n",
       "      <td>R</td>\n",
       "      <td>18.0</td>\n",
       "      <td>B</td>\n",
       "    </tr>\n",
       "    <tr>\n",
       "      <th>1</th>\n",
       "      <td>1809</td>\n",
       "      <td>62</td>\n",
       "      <td>F</td>\n",
       "      <td>Th</td>\n",
       "      <td>NaN</td>\n",
       "      <td>NaN</td>\n",
       "      <td>NaN</td>\n",
       "      <td>NaN</td>\n",
       "      <td>NaN</td>\n",
       "      <td>NaN</td>\n",
       "      <td>...</td>\n",
       "      <td>15.0</td>\n",
       "      <td>32.0</td>\n",
       "      <td>63.0</td>\n",
       "      <td>66.0</td>\n",
       "      <td>12</td>\n",
       "      <td>352.0</td>\n",
       "      <td>Lateral Thalamus</td>\n",
       "      <td>R</td>\n",
       "      <td>6.0</td>\n",
       "      <td>L</td>\n",
       "    </tr>\n",
       "    <tr>\n",
       "      <th>2</th>\n",
       "      <td>1830</td>\n",
       "      <td>68</td>\n",
       "      <td>M</td>\n",
       "      <td>Th</td>\n",
       "      <td>15.0</td>\n",
       "      <td>95.0</td>\n",
       "      <td>33.0</td>\n",
       "      <td>17.0</td>\n",
       "      <td>18.0</td>\n",
       "      <td>4.0</td>\n",
       "      <td>...</td>\n",
       "      <td>15.0</td>\n",
       "      <td>35.0</td>\n",
       "      <td>64.0</td>\n",
       "      <td>62.0</td>\n",
       "      <td>12</td>\n",
       "      <td>1216.0</td>\n",
       "      <td>Medial Thalamus</td>\n",
       "      <td>R</td>\n",
       "      <td>36.0</td>\n",
       "      <td>R</td>\n",
       "    </tr>\n",
       "    <tr>\n",
       "      <th>3</th>\n",
       "      <td>2105</td>\n",
       "      <td>69</td>\n",
       "      <td>M</td>\n",
       "      <td>Th</td>\n",
       "      <td>7.0</td>\n",
       "      <td>65.0</td>\n",
       "      <td>14.0</td>\n",
       "      <td>7.0</td>\n",
       "      <td>7.0</td>\n",
       "      <td>6.0</td>\n",
       "      <td>...</td>\n",
       "      <td>15.0</td>\n",
       "      <td>34.0</td>\n",
       "      <td>95.0</td>\n",
       "      <td>100.0</td>\n",
       "      <td>16</td>\n",
       "      <td>1448.0</td>\n",
       "      <td>Medial Thalamus</td>\n",
       "      <td>Mix</td>\n",
       "      <td>15.0</td>\n",
       "      <td>L</td>\n",
       "    </tr>\n",
       "    <tr>\n",
       "      <th>4</th>\n",
       "      <td>3049</td>\n",
       "      <td>52</td>\n",
       "      <td>M</td>\n",
       "      <td>Th</td>\n",
       "      <td>10.0</td>\n",
       "      <td>78.0</td>\n",
       "      <td>20.0</td>\n",
       "      <td>15.0</td>\n",
       "      <td>10.0</td>\n",
       "      <td>6.0</td>\n",
       "      <td>...</td>\n",
       "      <td>15.0</td>\n",
       "      <td>32.0</td>\n",
       "      <td>108.0</td>\n",
       "      <td>98.0</td>\n",
       "      <td>12</td>\n",
       "      <td>536.0</td>\n",
       "      <td>Medial Thalamus</td>\n",
       "      <td>R</td>\n",
       "      <td>6.0</td>\n",
       "      <td>L</td>\n",
       "    </tr>\n",
       "  </tbody>\n",
       "</table>\n",
       "<p>5 rows × 29 columns</p>\n",
       "</div>"
      ],
      "text/plain": [
       "    Sub  Age Sex Site  WCST_PE  WCST_Correct  WCST_Error  PE_response  Non_PE  \\\n",
       "0  1692   58   M   Th      NaN           NaN         NaN          NaN     NaN   \n",
       "1  1809   62   F   Th      NaN           NaN         NaN          NaN     NaN   \n",
       "2  1830   68   M   Th     15.0          95.0        33.0         17.0    18.0   \n",
       "3  2105   69   M   Th      7.0          65.0        14.0          7.0     7.0   \n",
       "4  3049   52   M   Th     10.0          78.0        20.0         15.0    10.0   \n",
       "\n",
       "   WCST_Catogories  ...  RAVL_Rejection  Construction  Pegboard_Right  \\\n",
       "0              NaN  ...            15.0          29.0            85.0   \n",
       "1              NaN  ...            15.0          32.0            63.0   \n",
       "2              4.0  ...            15.0          35.0            64.0   \n",
       "3              6.0  ...            15.0          34.0            95.0   \n",
       "4              6.0  ...            15.0          32.0           108.0   \n",
       "\n",
       "   Pegboard_Left  Educ  Lesion Size             Group  Hadedness  Chronicity  \\\n",
       "0          112.0    12        336.0  Lateral Thalamus          R        18.0   \n",
       "1           66.0    12        352.0  Lateral Thalamus          R         6.0   \n",
       "2           62.0    12       1216.0   Medial Thalamus          R        36.0   \n",
       "3          100.0    16       1448.0   Medial Thalamus        Mix        15.0   \n",
       "4           98.0    12        536.0   Medial Thalamus          R         6.0   \n",
       "\n",
       "   Laterality  \n",
       "0           B  \n",
       "1           L  \n",
       "2           R  \n",
       "3           L  \n",
       "4           L  \n",
       "\n",
       "[5 rows x 29 columns]"
      ]
     },
     "execution_count": 16,
     "metadata": {},
     "output_type": "execute_result"
    }
   ],
   "source": [
    "df.head()"
   ]
  },
  {
   "cell_type": "code",
   "execution_count": 17,
   "metadata": {},
   "outputs": [
    {
     "name": "stdout",
     "output_type": "stream",
     "text": [
      "MannwhitneyuResult(statistic=212.0, pvalue=0.004789165489861587)\n"
     ]
    },
    {
     "data": {
      "image/png": "[encoded data removed]",
      "text/plain": [
       "<Figure size 172.8x216 with 1 Axes>"
      ]
     },
     "metadata": {},
     "output_type": "display_data"
    }
   ],
   "source": [
    "plt.figure(figsize=[2.4,3])\n",
    "sns.set_context('paper', font_scale=1)\n",
    "sns.set_style('white')\n",
    "sns.set_palette(\"Set1\")\n",
    "\n",
    "fig1=sns.pointplot(x=\"Site\", y=\"Boston\", join=False, hue='Site', dodge=False,\n",
    "              data=df)\n",
    "fig1=sns.stripplot(x=\"Site\", y=\"Boston\",\n",
    "              data=df, alpha = .4)\n",
    "\n",
    "fig1.set_xticklabels(['Thalamic \\nPatients', 'Comparison \\nPatients'])\n",
    "#fig1.set_ylim([-3, 7])\n",
    "#fig1.set_aspect(.15)\n",
    "fig1.legend_.remove()\n",
    "plt.xlabel('')\n",
    "plt.ylabel('Boston Naming')\n",
    "plt.tight_layout()\n",
    "plt.savefig('/home/kahwang/RDSS/tmp/figBostonNaming.pdf')\n",
    "print(scipy.stats.mannwhitneyu(df.loc[df['Site']=='ctx']['Boston'].values, df.loc[df['Site']=='Th']['Boston'].values)\t)"
   ]
  },
  {
   "cell_type": "code",
   "execution_count": 10,
   "metadata": {},
   "outputs": [
    {
     "data": {
      "image/png": "[encoded data removed]",
      "text/plain": [
       "<Figure size 172.8x216 with 1 Axes>"
      ]
     },
     "metadata": {},
     "output_type": "display_data"
    }
   ],
   "source": [
    "plt.figure(figsize=[2.4,3])\n",
    "sns.set_context('paper', font_scale=1)\n",
    "sns.set_style('white')\n",
    "sns.set_palette(\"Set1\")\n",
    "\n",
    "fig1=sns.pointplot(x=\"Site\", y=\"RAVL_30_recall\", join=False, hue='Site', dodge=False,\n",
    "              data=df)\n",
    "fig1=sns.stripplot(x=\"Site\", y=\"RAVL_30_recall\",\n",
    "              data=df, alpha = .4)\n",
    "\n",
    "fig1.set_xticklabels(['Thalamic \\nPatients', 'Comparison \\nPatients'])\n",
    "#fig1.set_ylim([-3, 7])\n",
    "#fig1.set_aspect(.15)\n",
    "fig1.legend_.remove()\n",
    "plt.xlabel('')\n",
    "plt.ylabel('RAVL Delay Recall')\n",
    "plt.tight_layout()\n",
    "plt.savefig('/home/kahwang/RDSS/tmp/figRAVL.pdf')"
   ]
  },
  {
   "cell_type": "code",
   "execution_count": 11,
   "metadata": {},
   "outputs": [
    {
     "data": {
      "image/png": "[encoded data removed]",
      "text/plain": [
       "<Figure size 172.8x216 with 1 Axes>"
      ]
     },
     "metadata": {},
     "output_type": "display_data"
    }
   ],
   "source": [
    "plt.figure(figsize=[2.4,3])\n",
    "sns.set_context('paper', font_scale=1)\n",
    "sns.set_style('white')\n",
    "sns.set_palette(\"Set1\")\n",
    "\n",
    "fig1=sns.pointplot(x=\"Site\", y=\"COWA\", join=False, hue='Site', dodge=False,\n",
    "              data=df)\n",
    "fig1=sns.stripplot(x=\"Site\", y=\"COWA\",\n",
    "              data=df, alpha = .4)\n",
    "\n",
    "fig1.set_xticklabels(['Thalamic \\nPatients', 'Comparison \\nPatients'])\n",
    "#fig1.set_ylim([-3, 7])\n",
    "#fig1.set_aspect(.15)\n",
    "fig1.legend_.remove()\n",
    "plt.xlabel('')\n",
    "plt.ylabel('COWA')\n",
    "plt.tight_layout()\n",
    "plt.savefig('/home/kahwang/RDSS/tmp/figCOWA.pdf')"
   ]
  },
  {
   "cell_type": "code",
   "execution_count": 12,
   "metadata": {},
   "outputs": [
    {
     "data": {
      "image/png": "[encoded data removed]",
      "text/plain": [
       "<Figure size 172.8x216 with 1 Axes>"
      ]
     },
     "metadata": {},
     "output_type": "display_data"
    }
   ],
   "source": [
    "plt.figure(figsize=[2.4,3])\n",
    "sns.set_context('paper', font_scale=1)\n",
    "sns.set_style('white')\n",
    "sns.set_palette(\"Set1\")\n",
    "\n",
    "fig1=sns.pointplot(x=\"Site\", y=\"Construction\", join=False, hue='Site', dodge=False,\n",
    "              data=df)\n",
    "fig1=sns.stripplot(x=\"Site\", y=\"Construction\",\n",
    "              data=df, alpha = .4)\n",
    "\n",
    "fig1.set_xticklabels(['Thalamic \\nPatients', 'Comparison \\nPatients'])\n",
    "#fig1.set_ylim([-3, 7])\n",
    "#fig1.set_aspect(.15)\n",
    "fig1.legend_.remove()\n",
    "plt.xlabel('')\n",
    "plt.ylabel('Complex Figure Construction')\n",
    "plt.tight_layout()\n",
    "plt.savefig('/home/kahwang/RDSS/tmp/figConstruction.pdf')"
   ]
  },
  {
   "cell_type": "code",
   "execution_count": null,
   "metadata": {},
   "outputs": [],
   "source": []
  }
 ],
 "metadata": {
  "kernelspec": {
   "display_name": "Python 3",
   "language": "python",
   "name": "python3"
  },
  "language_info": {
   "codemirror_mode": {
    "name": "ipython",
    "version": 3
   },
   "file_extension": ".py",
   "mimetype": "text/x-python",
   "name": "python",
   "nbconvert_exporter": "python",
   "pygments_lexer": "ipython3",
   "version": "3.6.10"
  }
 },
 "nbformat": 4,
 "nbformat_minor": 4
}
